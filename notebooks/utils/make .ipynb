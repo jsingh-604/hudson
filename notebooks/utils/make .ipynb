{
 "cells": [
  {
   "cell_type": "code",
   "execution_count": null,
   "metadata": {},
   "outputs": [],
   "source": [
    "#!/usr/bin/env python\n",
    "# coding: utf-8\n",
    "\n",
    "import dask.dataframe as dd\n",
    "import dask.array as da\n",
    "import dask.bag as db\n",
    "import squidpy as sq\n",
    "import numpy as np\n",
    "import matplotlib.pyplot as plt\n",
    "import skimage\n",
    "import anndata as ad\n",
    "import pandas as pd\n",
    "\n",
    "\n",
    "class snakemake():\n",
    "    \n",
    "    input_path = ['/gpfs/commons/groups/nygcfaculty/PySeq/20210428_mouse_genotype_2/segmented_sections/m387ntga2_labels.tiff']\n",
    "    output_path = ['test.h5ad']\n",
    "    \n",
    "    def return_anndata():\n",
    "        \n",
    "        img = skimage.io.imread(snakemake.input_path[0])\n",
    "        ski_img = skimage.measure.regionprops(img)\n",
    "        df = pd.DataFrame(ski_img)\n",
    "        var_array = df.head(1).values\n",
    "        list_var = list(var_array.flatten())\n",
    "        lables = len(ski_img)\n",
    "        df = pd.DataFrame(index = list_var, columns = np.arange(1,lables,1))\n",
    "\n",
    "        for ind in df.index:\n",
    "            for val in df.columns:\n",
    "                df.loc[ind,val] = getattr(ski_img[val],ind)\n",
    "            \n",
    "        for val in df.columns:\n",
    "            df.loc['bbox',val] = np.asarray(df.loc['bbox',val]).reshape(1,4)\n",
    "        \n",
    "        \n",
    "        for val in df.columns:\n",
    "            df.loc['centroid',val] = np.asarray(df.loc['centroid',val]).reshape(1,2)\n",
    "        \n",
    "        \n",
    "        for ind in df.index:\n",
    "            for val in df.columns:\n",
    "                if type(df.loc[ind,val]) == np.ndarray:\n",
    "                    df.loc[ind,val] = df.loc[ind,val][~np.isnan(df.loc[ind,val])].flatten()\n",
    "                \n",
    "                \n",
    "                \n",
    "        scalar_list = ['area','area_bbox','area_convex','area_filled','axis_major_length','axis_minor_length',\n",
    "            'eccentricity', 'equivalent_diameter_area','euler_number','extent','feret_diameter_max',\n",
    "              'label','orientation','perimeter','perimeter_crofton','solidity'] \n",
    "        scalar_df = df.loc[['area','area_bbox','area_convex','area_filled','axis_major_length','axis_minor_length',\n",
    "            'eccentricity', 'equivalent_diameter_area','euler_number','extent','feret_diameter_max',\n",
    "              'label','orientation','perimeter','perimeter_crofton','solidity']]\n",
    "                   \n",
    "        multidim_list = ['bbox','centroid','centroid_local', 'coords', 'image', 'image_convex', 'image_filled',\n",
    "                'inertia_tensor', 'inertia_tensor_eigvals', 'moments', 'moments_central' ,'moments_hu',\n",
    "                'moments_normalized']\n",
    "        multidim_df = df.loc[['bbox','centroid','centroid_local', 'coords', 'image', 'image_convex', 'image_filled',\n",
    "                'inertia_tensor', 'inertia_tensor_eigvals', 'moments', 'moments_central' ,'moments_hu',\n",
    "                'moments_normalized']]\n",
    "    \n",
    "    \n",
    "        mt = multidim_df.transpose()\n",
    "    \n",
    "        X = scalar_df.T.values\n",
    "        adata = ad.AnnData(X)\n",
    "        adata.var_names = scalar_df.index\n",
    "        adata.obs_names = scalar_df.columns\n",
    "        #adata.var = pd.DataFrame(index = scalar_list, columns = scalar_list)\n",
    "        #adata.obs = pd.DataFrame(index = scalar_df.columns, columns = scalar_df.columns)\n",
    "        for col in mt.columns:\n",
    "            adata.obsm[col] = mt[col].values\n",
    "        \n",
    "        i = 0\n",
    "        for row in multidim_list:\n",
    "            adata.uns[row] = multidim_df.iloc[[i]].values.flatten()\n",
    "            i = i+1\n",
    "            \n",
    "        for j in adata.uns.keys():\n",
    "            adata.uns[j] = np.array2string(adata.uns[j])\n",
    "    \n",
    "        print(np.shape(adata.X))\n",
    "        adata.obs.columns = adata.obs.columns.astype(str)\n",
    "        adata.var.columns = adata.var.columns.astype(str)\n",
    "        adata.write(snakemake.output_path[0])\n",
    "        \n",
    "        print(\"done\")\n",
    "        \n",
    "    \n",
    "    \n",
    "        \n",
    "        \n",
    "\n",
    "    \n",
    "    \n",
    "    \n",
    "    \n",
    "                \n",
    "                \n",
    "    \n",
    "        \n",
    "    \n",
    "            \n",
    "    \n",
    "                            \n",
    "    \n",
    "    \n",
    "\n",
    "\n",
    "\n"
   ]
  },
  {
   "cell_type": "code",
   "execution_count": null,
   "metadata": {},
   "outputs": [],
   "source": [
    "snakemake.return_anndata()"
   ]
  },
  {
   "cell_type": "code",
   "execution_count": 16,
   "metadata": {},
   "outputs": [
    {
     "name": "stdout",
     "output_type": "stream",
     "text": [
      "10\n",
      "<function Person.greet at 0x7fb3bb95ef70>\n",
      "This is a person class\n"
     ]
    }
   ],
   "source": [
    "class Person:\n",
    "    \"This is a person class\"\n",
    "    age = 10\n",
    "\n",
    "    def greet(self):\n",
    "        print('Hello')\n",
    "\n",
    "\n",
    "# Output: 10\n",
    "print(Person.age)\n",
    "\n",
    "# Output: <function Person.greet>\n",
    "print(Person.greet)\n",
    "\n",
    "# Output: \"This is a person class\"\n",
    "print(Person.__doc__)"
   ]
  },
  {
   "cell_type": "code",
   "execution_count": 13,
   "metadata": {},
   "outputs": [
    {
     "data": {
      "text/plain": [
       "['/gpfs/commons/groups/nygcfaculty/PySeq/20210428_mouse_genotype_2/segmented_sections/m387ntga2_labels.tiff']"
      ]
     },
     "execution_count": 13,
     "metadata": {},
     "output_type": "execute_result"
    }
   ],
   "source": [
    "snakemake.input_path"
   ]
  },
  {
   "cell_type": "code",
   "execution_count": null,
   "metadata": {},
   "outputs": [],
   "source": []
  }
 ],
 "metadata": {
  "kernelspec": {
   "display_name": "spatial",
   "language": "python",
   "name": "spatial"
  },
  "language_info": {
   "codemirror_mode": {
    "name": "ipython",
    "version": 3
   },
   "file_extension": ".py",
   "mimetype": "text/x-python",
   "name": "python",
   "nbconvert_exporter": "python",
   "pygments_lexer": "ipython3",
   "version": "3.9.12"
  }
 },
 "nbformat": 4,
 "nbformat_minor": 2
}
