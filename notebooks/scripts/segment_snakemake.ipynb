{
 "cells": [
  {
   "cell_type": "code",
   "execution_count": 7,
   "metadata": {},
   "outputs": [
    {
     "name": "stdout",
     "output_type": "stream",
     "text": [
      "2022-08-03 13:16:03,360 [INFO] WRITING LOG OUTPUT TO /gpfs/commons/home/jsingh/.cellpose/run.log\n"
     ]
    }
   ],
   "source": [
    "import cellpose\n",
    "import torch \n",
    "import torchvision\n",
    "import zarr\n",
    "import numpy as np\n",
    "import scipy as sp\n",
    "import numpy as np\n",
    "import matplotlib.pyplot as plt\n",
    "import dask.dataframe as dd\n",
    "import dask.array as da\n",
    "import dask.bag as db\n",
    "import pandas as pd\n",
    "from dask.distributed import Client\n",
    "import xarray as xr\n",
    "import dask\n",
    "import imageio\n",
    "\n",
    "import numpy as np\n",
    "import time, os, sys, random\n",
    "from urllib.parse import urlparse\n",
    "import skimage.io\n",
    "import matplotlib.pyplot as plt\n",
    "import matplotlib as mpl\n",
    "import skimage\n",
    "\n",
    "from cellpose import core, utils, io, models, metrics\n",
    "from glob import glob\n",
    "\n",
    "# model_type='cyto' or 'nuclei' or 'cyto2'\n",
    "# start logger (to see training across epochs)\n",
    "logger = io.logger_setup()\n",
    "\n"
   ]
  },
  {
   "cell_type": "code",
   "execution_count": 8,
   "metadata": {},
   "outputs": [
    {
     "data": {
      "text/plain": [
       "'/gpfs/commons/groups/nygcfaculty/PySeq/20210323_4i4color/pipeline/results/20210323_4i4color/final_zarr/m1a.zarr'"
      ]
     },
     "execution_count": 8,
     "metadata": {},
     "output_type": "execute_result"
    }
   ],
   "source": [
    "from pathlib import Path\n",
    "\n",
    "exp_dir = Path('/gpfs/commons/groups/nygcfaculty/PySeq/20210323_4i4color/pipeline/results/20210323_4i4color/')\n",
    "str(exp_dir/Path('final_zarr/m1a.zarr'))"
   ]
  },
  {
   "cell_type": "code",
   "execution_count": 9,
   "metadata": {},
   "outputs": [],
   "source": [
    "import yaml\n",
    "with open('/gpfs/commons/home/jsingh/hudson/config/config.yaml') as f:\n",
    "    config = yaml.safe_load(f)"
   ]
  },
  {
   "cell_type": "code",
   "execution_count": 10,
   "metadata": {},
   "outputs": [],
   "source": [
    "config.update({'segmentation':{'marker':'LMNB1'}})"
   ]
  },
  {
   "cell_type": "code",
   "execution_count": 11,
   "metadata": {},
   "outputs": [
    {
     "data": {
      "text/plain": [
       "{'experiment_directory': '/nethome/kpandit/pyseq-image/src/demo/',\n",
       " 'output_directory': '/nethome/kpandit/hudson/results/',\n",
       " 'resources': {'partition': 'pi3',\n",
       "  'time': '1:00:00',\n",
       "  'mem': '16G',\n",
       "  'dask_worker': {'log_directory': 'None'}},\n",
       " 'stains': {1: {610: 'GFAP'},\n",
       "  2: {740: 'ELAVL2'},\n",
       "  3: {558: 'LMN1b'},\n",
       "  4: {687: 'MBP'},\n",
       "  5: {558: 'LMN1b_5', 610: 'GFAP_5', 687: 'MBP_5', 740: 'ELAVL2_5'}},\n",
       " 'segmentation': {'marker': 'LMNB1'}}"
      ]
     },
     "execution_count": 11,
     "metadata": {},
     "output_type": "execute_result"
    }
   ],
   "source": [
    "config"
   ]
  },
  {
   "cell_type": "code",
   "execution_count": 13,
   "metadata": {},
   "outputs": [
    {
     "name": "stdout",
     "output_type": "stream",
     "text": [
      "2022-08-03 13:17:50,542 [INFO] WRITING LOG OUTPUT TO /gpfs/commons/home/jsingh/.cellpose/run.log\n",
      "2022-08-03 13:17:50,640 [INFO] TORCH CUDA version not installed/working.\n",
      "2022-08-03 13:17:50,643 [INFO] >> TN2 << model set to be used\n",
      "2022-08-03 13:17:50,646 [INFO] >>>> using CPU\n",
      "2022-08-03 13:17:51,133 [INFO] >>>> model diam_mean =  30.000 (ROIs rescaled to this size during training)\n"
     ]
    }
   ],
   "source": [
    "import xarray as xr\n",
    "\n",
    "\n",
    "### DELETE ME\n",
    "from pathlib import Path\n",
    "import yaml\n",
    "\n",
    "exp_dir = Path('/gpfs/commons/groups/nygcfaculty/PySeq/20210323_4i4color/pipeline/results/20210323_4i4color/')\n",
    "class snakemake():\n",
    "    input = [str(exp_dir/Path('final_zarr/m1a.zarr'))]\n",
    "    output = [str(exp_dir/Path('segmentation/m1a.tiff'))]\n",
    "    with open('/gpfs/commons/home/jsingh/hudson/config/config.yaml') as f:\n",
    "        config = yaml.safe_load(f)\n",
    "\n",
    "### DELETE ME\n",
    "\n",
    "\n",
    "# Open image from zarr store\n",
    "image_path = Path(snakemake.input[0])\n",
    "im_name = image_path.stem\n",
    "image = xr.open_zarr(image_path).to_array()\n",
    "image = image.squeeze().drop_vars('variable').rename(im_name)\n",
    "\n",
    "# segment\n",
    "logger = io.logger_setup()\n",
    "use_GPU = core.use_gpu()\n",
    "model = models.CellposeModel(gpu=use_GPU,model_type='TN2')\n",
    "#model = models.CellposeModel(model_type='TN2')\n",
    "# Remove once priors steps in pipe\n",
    "#one_z_plane = image.sel(obj_step = 8498, channel = 558, cycle=1)\n",
    "arr = image.sel(snakemake.config.get('segmentation'))\n",
    "channels = [0,0]\n",
    "masks, flows, styles = model.eval(arr.values, diameter=None, channels=channels, cellprob_threshold= -6, flow_threshold= 1000)\n",
    "imageio.imwrite(snakemake.output[0],masks)\n",
    "    \n"
   ]
  },
  {
   "cell_type": "code",
   "execution_count": null,
   "metadata": {},
   "outputs": [],
   "source": []
  }
 ],
 "metadata": {
  "kernelspec": {
   "display_name": "spatial",
   "language": "python",
   "name": "spatial"
  },
  "language_info": {
   "codemirror_mode": {
    "name": "ipython",
    "version": 3
   },
   "file_extension": ".py",
   "mimetype": "text/x-python",
   "name": "python",
   "nbconvert_exporter": "python",
   "pygments_lexer": "ipython3",
   "version": "3.9.12"
  }
 },
 "nbformat": 4,
 "nbformat_minor": 2
}
