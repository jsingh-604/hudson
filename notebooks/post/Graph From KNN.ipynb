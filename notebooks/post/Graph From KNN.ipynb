{
 "cells": [
  {
   "cell_type": "code",
   "execution_count": 7,
   "metadata": {},
   "outputs": [
    {
     "name": "stderr",
     "output_type": "stream",
     "text": [
      "/gpfs/commons/home/jsingh/.conda/envs/spatial/lib/python3.9/site-packages/geopandas/_compat.py:111: UserWarning: The Shapely GEOS version (3.9.1dev-CAPI-1.14.1) is incompatible with the GEOS version PyGEOS was compiled with (3.10.1-CAPI-1.16.0). Conversions between both will be slow.\n",
      "  warnings.warn(\n",
      "/gpfs/commons/home/jsingh/PySeq2500/pyseq/image_analysis.py:955: RuntimeWarning: Failed to open Zarr store with consolidated metadata, falling back to try reading non-consolidated metadata. This is typically much slower for opening a dataset. To silence this warning, consider:\n",
      "1. Consolidating metadata in this existing store with zarr.consolidate_metadata().\n",
      "2. Explicitly setting consolidated=False, to avoid trying to read consolidate metadata, or\n",
      "3. Explicitly setting consolidated=True, to raise an error in this case instead of falling back to try reading non-consolidated metadata.\n",
      "  im = xr.open_zarr(fn).to_array()\n"
     ]
    },
    {
     "name": "stdout",
     "output_type": "stream",
     "text": [
      "ImageAnalysis::Opened m387ntga2 \n"
     ]
    }
   ],
   "source": [
    "#import labels\n",
    "from pyseq import image_analysis as ia\n",
    "import squidpy as sq\n",
    "import numpy as np\n",
    "import matplotlib.pyplot as plt\n",
    "import dask.dataframe as dd\n",
    "import dask.array as da\n",
    "import dask.bag as db\n",
    "import skimage\n",
    "import pandas as pd\n",
    "import anndata as ad\n",
    "from shapely.geometry import Point\n",
    "import geopandas\n",
    "from libpysal import weights, examples\n",
    "import matplotlib.pyplot as plt\n",
    "import networkx as nx\n",
    "import numpy as np\n",
    "\n",
    "labels = skimage.io.imread('/gpfs/commons/home/jsingh/outputs/masks_final.tiff')\n",
    "im = ia.get_HiSeqImages(image_path = '/gpfs/commons/home/jsingh/zarrs/m387ntga2.zarr')\n",
    "one_z_plane = im.im.sel(obj_step = 8498, channel = 558, cycle=1)\n",
    "arr = one_z_plane.values"
   ]
  },
  {
   "cell_type": "code",
   "execution_count": 8,
   "metadata": {},
   "outputs": [],
   "source": [
    "img = skimage.io.imread('/gpfs/commons/home/jsingh/outputs/masks_final.tiff')\n",
    "ski_img = skimage.measure.regionprops(img)"
   ]
  },
  {
   "cell_type": "code",
   "execution_count": 10,
   "metadata": {},
   "outputs": [
    {
     "name": "stderr",
     "output_type": "stream",
     "text": [
      "/gpfs/commons/home/jsingh/.conda/envs/spatial/lib/python3.9/site-packages/anndata/_core/anndata.py:120: ImplicitModificationWarning: Transforming to str index.\n",
      "  warnings.warn(\"Transforming to str index.\", ImplicitModificationWarning)\n"
     ]
    }
   ],
   "source": [
    "adata = ad.read_h5ad('/gpfs/commons/groups/nygcfaculty/PySeq/spatial_analysis/m387ntga2_labels_anndata_sample.h5ad')"
   ]
  },
  {
   "cell_type": "code",
   "execution_count": null,
   "metadata": {},
   "outputs": [],
   "source": [
    "# Centroid Distance Matrix\n",
    "x_coord = []\n",
    "y_coord = []\n",
    "for x in range(np.shape(adata.uns['centroid'])[0]):\n",
    "    y_coord.append(adata.uns['centroid'][x][0])\n",
    "    x_coord.append(adata.uns['centroid'][x][1])\n",
    "    \n",
    "mat = np.column_stack((x_coord, y_coord))\n",
    "\n",
    "point_list = []\n",
    "for s in mat:\n",
    "    point_list.append(Point(s))\n",
    "    \n",
    "d = {'geometry': point_list}\n",
    "gdf = geopandas.GeoDataFrame(d,crs=\"EPSG:4326\")\n",
    "\n",
    "def graph(n):\n",
    "    knn3 = weights.KNN.from_dataframe(gdf, k=n) #for k = 3\n",
    "    knn_graph = knn3.to_networkx()\n",
    "    return knn_graph"
   ]
  },
  {
   "cell_type": "code",
   "execution_count": null,
   "metadata": {},
   "outputs": [],
   "source": []
  }
 ],
 "metadata": {
  "kernelspec": {
   "display_name": "spatial",
   "language": "python",
   "name": "spatial"
  },
  "language_info": {
   "codemirror_mode": {
    "name": "ipython",
    "version": 3
   },
   "file_extension": ".py",
   "mimetype": "text/x-python",
   "name": "python",
   "nbconvert_exporter": "python",
   "pygments_lexer": "ipython3",
   "version": "3.9.12"
  }
 },
 "nbformat": 4,
 "nbformat_minor": 2
}
