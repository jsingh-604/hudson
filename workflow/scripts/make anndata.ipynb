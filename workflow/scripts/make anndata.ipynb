{
 "cells": [
  {
   "cell_type": "code",
   "execution_count": 6,
   "metadata": {},
   "outputs": [],
   "source": [
    "#!/usr/bin/env python\n",
    "# coding: utf-8\n",
    "\n",
    "import dask.dataframe as dd\n",
    "import dask.array as da\n",
    "import dask.bag as db\n",
    "import numpy as np\n",
    "import skimage\n",
    "import anndata as ad\n",
    "import pandas as pd\n",
    "import pickle \n",
    "\n"
   ]
  },
  {
   "cell_type": "code",
   "execution_count": 7,
   "metadata": {},
   "outputs": [],
   "source": [
    "class snakemake():\n",
    "    \n",
    "    input = ['/gpfs/commons/home/jsingh/results/20210323_4i4color/masks/m1a.tiff',\n",
    "             '/gpfs/commons/home/jsingh/results/test_dict.pkl']\n",
    "    output = ['/gpfs/commons/home/jsingh/results/test_anndata.h5ad',\n",
    "              '/gpfs/commons/home/jsingh/results/uns.csv',\n",
    "             '/gpfs/commons/home/jsingh/results/centroid.npy']\n",
    "    "
   ]
  },
  {
   "cell_type": "code",
   "execution_count": 8,
   "metadata": {},
   "outputs": [],
   "source": [
    "def return_anndata(path):\n",
    "    \n",
    "    img = skimage.io.imread(path)\n",
    "    ski_img = skimage.measure.regionprops(img)\n",
    "    df = pd.DataFrame(ski_img)\n",
    "    var_array = df.head(1).values\n",
    "    list_var = list(var_array.flatten())\n",
    "    labels = len(ski_img)\n",
    "    df = pd.DataFrame(index = list_var, columns = np.arange(1,labels,1))\n",
    "\n",
    "    \n",
    "    for ind in df.index:\n",
    "        for val in df.columns:\n",
    "            df.loc[ind,val] = getattr(ski_img[val],ind)\n",
    "            \n",
    "    for val in df.columns:\n",
    "        df.loc['bbox',val] = np.asarray(df.loc['bbox',val]).reshape(1,4)\n",
    "        \n",
    "        \n",
    "    for val in df.columns:\n",
    "        df.loc['centroid',val] = np.asarray(df.loc['centroid',val]).reshape(1,2)\n",
    "        \n",
    "        \n",
    "    for ind in df.index:\n",
    "        for val in df.columns:\n",
    "            if type(df.loc[ind,val]) == np.ndarray:\n",
    "                df.loc[ind,val] = df.loc[ind,val][~np.isnan(df.loc[ind,val])].flatten()\n",
    "                \n",
    "                \n",
    "                \n",
    "    scalar_list = ['area','area_bbox','area_convex','area_filled','axis_major_length','axis_minor_length',\n",
    "            'eccentricity', 'equivalent_diameter_area','euler_number','extent','feret_diameter_max',\n",
    "              'label','orientation','perimeter','perimeter_crofton','solidity'] \n",
    "    scalar_df = df.loc[['area','area_bbox','area_convex','area_filled','axis_major_length','axis_minor_length',\n",
    "            'eccentricity', 'equivalent_diameter_area','euler_number','extent','feret_diameter_max',\n",
    "              'label','orientation','perimeter','perimeter_crofton','solidity']]\n",
    "                   \n",
    "    multidim_list = ['bbox','centroid','centroid_local', 'coords', 'image', 'image_convex', 'image_filled',\n",
    "                'inertia_tensor', 'inertia_tensor_eigvals', 'moments', 'moments_central' ,'moments_hu',\n",
    "                'moments_normalized']\n",
    "    multidim_df = df.loc[['bbox','centroid','centroid_local', 'coords', 'image', 'image_convex', 'image_filled',\n",
    "                'inertia_tensor', 'inertia_tensor_eigvals', 'moments', 'moments_central' ,'moments_hu',\n",
    "                'moments_normalized']]\n",
    "    \n",
    "    \n",
    "\n",
    "    mt = multidim_df.transpose()\n",
    "    \n",
    "    X = scalar_df.T.values\n",
    "    adata = ad.AnnData(X)\n",
    "    adata.var_names = scalar_df.index\n",
    "    adata.obs_names = scalar_df.columns\n",
    "    adata.var = pd.DataFrame(index = scalar_list, columns = scalar_list)\n",
    "    adata.obs = pd.DataFrame(index = scalar_df.columns, columns = scalar_df.columns)\n",
    "    for col in mt.columns:\n",
    "        adata.obsm[col] = mt[col].values\n",
    "        \n",
    "    i = 0\n",
    "    for row in multidim_list:\n",
    "        adata.uns[row] = multidim_df.iloc[[i]].values.flatten()\n",
    "        i = i+1\n",
    "        \n",
    "                \n",
    "        \n",
    "    return adata\n",
    "    "
   ]
  },
  {
   "cell_type": "code",
   "execution_count": 9,
   "metadata": {},
   "outputs": [],
   "source": [
    "with open(snakemake.input[1], 'rb') as f:\n",
    "    loaded_dict = pickle.load(f)"
   ]
  },
  {
   "cell_type": "code",
   "execution_count": 10,
   "metadata": {},
   "outputs": [],
   "source": [
    "def del_nan(arr):\n",
    "    del_list = []\n",
    "    mask = np.isnan(arr)\n",
    "    for m,v in zip(mask, range(len(mask))):\n",
    "        if m == True:\n",
    "            del_list.append(v)\n",
    "        \n",
    "    arr = np.delete(arr,del_list)\n",
    "    return(arr)\n",
    "    "
   ]
  },
  {
   "cell_type": "code",
   "execution_count": 11,
   "metadata": {},
   "outputs": [],
   "source": [
    "for key in loaded_dict.keys():\n",
    "    val = loaded_dict[key]\n",
    "    val = del_nan(val)\n",
    "    #val = np.roll(val,-1)\n",
    "    loaded_dict.update({key:val[1:]})\n",
    "        "
   ]
  },
  {
   "cell_type": "code",
   "execution_count": 12,
   "metadata": {},
   "outputs": [
    {
     "name": "stderr",
     "output_type": "stream",
     "text": [
      "/gpfs/commons/home/jsingh/.conda/envs/spatial/lib/python3.9/site-packages/anndata/_core/anndata.py:875: UserWarning: \n",
      "AnnData expects .obs.index to contain strings, but got values like:\n",
      "    [1, 2, 3, 4, 5]\n",
      "\n",
      "    Inferred to be: integer\n",
      "\n",
      "  names = self._prep_dim_index(names, \"obs\")\n",
      "/gpfs/commons/home/jsingh/.conda/envs/spatial/lib/python3.9/site-packages/anndata/_core/anndata.py:801: UserWarning: \n",
      "AnnData expects .obs.index to contain strings, but got values like:\n",
      "    [1, 2, 3, 4, 5]\n",
      "\n",
      "    Inferred to be: integer\n",
      "\n",
      "  value_idx = self._prep_dim_index(value.index, attr)\n"
     ]
    }
   ],
   "source": [
    "ad_object   = return_anndata(snakemake.input[0])"
   ]
  },
  {
   "cell_type": "code",
   "execution_count": 13,
   "metadata": {},
   "outputs": [
    {
     "name": "stderr",
     "output_type": "stream",
     "text": [
      "/gpfs/commons/home/jsingh/.conda/envs/spatial/lib/python3.9/site-packages/anndata/_core/anndata.py:875: UserWarning: \n",
      "AnnData expects .obs.index to contain strings, but got values like:\n",
      "    [1, 2, 3, 4, 5]\n",
      "\n",
      "    Inferred to be: integer\n",
      "\n",
      "  names = self._prep_dim_index(names, \"obs\")\n"
     ]
    }
   ],
   "source": [
    "mat = ad_object.X\n",
    "\n",
    "for key in loaded_dict.keys():\n",
    "    mat = np.append(mat, np.asarray([loaded_dict[key]]).transpose(), axis = 1)\n",
    "    \n",
    "#remake new anndata object\n",
    "adt = ad.AnnData(mat)\n",
    "\n",
    "lis = ad_object.var_names\n",
    "var = list(lis)\n",
    "post_var = list(loaded_dict.keys())\n",
    "var.extend(post_var)\n",
    "\n",
    "\n",
    "adt.var_names = var\n",
    "adt.obs_names = np.arange(1,np.shape(mat)[0] + 1,1)\n",
    "\n",
    "df = pd.DataFrame()\n",
    "for k in ad_object.uns.keys():\n",
    "    df[k] = ad_object.uns[k]\n",
    "    \n",
    "adt.write(snakemake.output[0])\n",
    "df.to_csv(snakemake.output[1])\n",
    "\n",
    "with open(snakemake.output[2], 'wb') as f:\n",
    "    np.save(f, ad_object.uns['centroid'])"
   ]
  },
  {
   "cell_type": "code",
   "execution_count": 14,
   "metadata": {},
   "outputs": [],
   "source": [
    "##########################################################################"
   ]
  },
  {
   "cell_type": "code",
   "execution_count": 29,
   "metadata": {},
   "outputs": [
    {
     "data": {
      "text/plain": [
       "numpy.ndarray"
      ]
     },
     "execution_count": 29,
     "metadata": {},
     "output_type": "execute_result"
    }
   ],
   "source": [
    "type(ad_object.uns['centroid'])"
   ]
  },
  {
   "cell_type": "code",
   "execution_count": 18,
   "metadata": {},
   "outputs": [],
   "source": [
    "adt.uns.keys()\n",
    "df = pd.DataFrame()\n",
    "\n",
    "\n",
    "for k in ad_object.uns.keys():\n",
    "    df[k] = adt.uns[k]\n",
    "\n",
    "adt\n",
    "\n",
    "adt.write(snakemake.output[0])\n",
    "\n",
    "adt"
   ]
  }
 ],
 "metadata": {
  "kernelspec": {
   "display_name": "spatial",
   "language": "python",
   "name": "spatial"
  },
  "language_info": {
   "codemirror_mode": {
    "name": "ipython",
    "version": 3
   },
   "file_extension": ".py",
   "mimetype": "text/x-python",
   "name": "python",
   "nbconvert_exporter": "python",
   "pygments_lexer": "ipython3",
   "version": "3.9.12"
  }
 },
 "nbformat": 4,
 "nbformat_minor": 2
}
