{
 "cells": [
  {
   "cell_type": "code",
   "execution_count": 1,
   "metadata": {},
   "outputs": [
    {
     "name": "stderr",
     "output_type": "stream",
     "text": [
      "/gpfs/commons/home/jsingh/.conda/envs/spatial/lib/python3.9/site-packages/dask_jobqueue/core.py:20: FutureWarning: tmpfile is deprecated and will be removed in a future release. Please use dask.utils.tmpfile instead.\n",
      "  from distributed.utils import tmpfile\n"
     ]
    }
   ],
   "source": [
    "import zarr\n",
    "import xarray as xr\n",
    "import numpy as np\n",
    "import numpy as np\n",
    "import dask\n",
    "from pyseq import image_analysis as ia\n",
    "from dask.distributed import Client\n",
    "import torch\n",
    "import joblib\n",
    "from dask_jobqueue import SLURMCluster\n",
    "import skimage\n",
    "import time\n",
    "import pickle\n",
    "from os.path import exists, join\n",
    "from joblib import Parallel, delayed\n",
    "from joblib import parallel_backend\n",
    "from dask.distributed import progress\n",
    "from pathlib import Path"
   ]
  },
  {
   "cell_type": "code",
   "execution_count": 2,
   "metadata": {},
   "outputs": [],
   "source": [
    "class snakemake():\n",
    "    input  = ['/gpfs/commons/home/jsingh/results/20210323_4i4color/final_zarr/m1a.zarr', \n",
    "              '/gpfs/commons/home/jsingh/results/20210323_4i4color/masks/m1a.tiff']\n",
    "    output = ['/gpfs/commons/home/jsingh/results/test_dict.pkl']"
   ]
  },
  {
   "cell_type": "code",
   "execution_count": 3,
   "metadata": {},
   "outputs": [],
   "source": [
    "labels = skimage.io.imread(snakemake.input[1])\n",
    "image_path = Path(snakemake.input[0])\n",
    "im_name = image_path.stem\n",
    "image = xr.open_zarr(image_path).to_array()\n",
    "image = image.squeeze().drop_vars('variable').rename(im_name)"
   ]
  },
  {
   "cell_type": "code",
   "execution_count": 4,
   "metadata": {},
   "outputs": [],
   "source": [
    "plane = image.sel(marker = 'LMN1b')"
   ]
  },
  {
   "cell_type": "code",
   "execution_count": 5,
   "metadata": {},
   "outputs": [],
   "source": [
    "############  CPU PART #################"
   ]
  },
  {
   "cell_type": "code",
   "execution_count": 6,
   "metadata": {},
   "outputs": [
    {
     "name": "stdout",
     "output_type": "stream",
     "text": [
      "[187.3165327731091, 405.14674195298375, 236.63436052631607, 418.5523536000002, 625.6932391891892, 472.22288666666276, 1368.0135612167287, 458.2640544776101, 1038.9491487499993, 864.4956617449665, 491.03020486486486, 1346.326246527777, 633.5295614035135, 308.8838207343412, 725.6246386956523, 323.667620261438, 545.439204347826, 1031.5620706140362, 574.3306688073394, 621.882193824228, 583.7760651459854, 474.7556858536584, 1297.6434507246381, 605.6318466666669, 447.72828660714293, 563.3206819301845, 674.6706222891564, 442.7224630769231, 587.4982739999999, 1007.2913143540674, 781.5368061598954, 483.98285447154336, 400.01251463414644, 744.6710952380946, 556.2058900584796, 867.0525188172044, 655.2405955752209, 862.1932053097363, 652.7372029154525, 1000.0350859223323, 616.7898627976197, 1110.5406411764698, 1253.970296875007, 1186.6857914529921, 575.2885360995858, 1049.9736830188715, 432.88534811625397, 496.5050701834864, 610.5017193277318, 798.9551809954768, 964.5459087962976, 799.0794519650668, 542.2643756666673, 960.8430910958926, 1011.7653292035393, 578.6120482051289, 740.3094245398793, 452.27467853881325, 562.5380835913318, 839.5554275862085, 739.2589141592944, 997.7777672794139, 198.96741151079144, 680.216729739131, 1321.9813025157232, 792.7949486199582, 379.8421236641222, 764.1999493562232, 1137.6210608888896, 920.1827598445614, 1270.2569923976594, 475.67384429347857, 742.6531697368434, 461.6490054945055, 590.3236896739132, 646.3107000000008, 336.2004567612694, 472.1434025806463, 775.1911481904775, 760.3328573643444, 160.53754773413885, 903.9734980000007, 708.1489248251773, 116.99251019736843, 1040.2264666666679, 529.3545098214296, 467.73223644859695, 577.5724131313141, 726.0182641791058, 577.0225341836741, 779.4160425925934, 1029.859853710249, 873.7348494117672, 403.14918425196777, 573.5361173913044, 1128.3901177914092, 360.04388040540573, 1089.6413548701312, 1062.6403394957988, 995.7534853125023, 766.8610577540132, 1046.863168000002, 1121.4470382352968, 950.9330406976761, 624.7715199999966, 681.1636490683255, 1141.2394500000069, 1024.587479999991, 1782.3046037735828, 1208.0749615560653, 631.6637094594613, 943.9524240174695, 1148.9554541806046, 113.347556185567]\n"
     ]
    },
    {
     "name": "stderr",
     "output_type": "stream",
     "text": [
      "2022-08-06 19:15:15,606 - distributed.client - ERROR - Failed to reconnect to scheduler after 30.00 seconds, closing client\n"
     ]
    }
   ],
   "source": [
    "if torch.cuda.is_available() == False:\n",
    "\n",
    "    def get_cluster(queue_name = 'pe2', log_dir=None):\n",
    "        \"\"\" Make dask cluster w/ workers = 2 cores, 32 G mem, and 1 hr wall time.\n",
    "\n",
    "            return cluster, client\n",
    "        \"\"\"\n",
    "\n",
    "        cluster = SLURMCluster(\n",
    "                    queue = queue_name, \n",
    "                    cores = 6 ,\n",
    "                    memory = '60G',\n",
    "                    walltime='1:00:00')\n",
    "                    #extra=[\"--lifetime\", \"55m\", \"--lifetime-stagger\", \"4m\"])\n",
    "        client = Client(cluster, timeout=\"50s\")\n",
    "\n",
    "        return cluster, client\n",
    "\n",
    "    cluster, client = get_cluster()\n",
    "\n",
    "    def scale_cluster(count): \n",
    "        cluster.scale(count)\n",
    "        return cluster.dashboard_link\n",
    "    scale_cluster(5)\n",
    "\n",
    "    #Way 3: Computing the same using dask compute without persisting Data\n",
    "    val = np.max(labels)\n",
    "    def get_pixels(lab):\n",
    "        m = plane.values[labels == lab+1].mean()\n",
    "        return m\n",
    "\n",
    "    with parallel_backend('dask',scheduler_host=cluster.scheduler._address):\n",
    "        results = Parallel(n_jobs=-1)(delayed(get_pixels)(lab) for lab in range(val))\n",
    "        \n",
    "    print(results)\n",
    "    \n",
    "    intensity_dict = {}\n",
    "    intensity_dict.update({'m1a':results})\n",
    "    with open(snakemake.output[0], 'wb') as f:\n",
    "        pickle.dump(intensity_dict, f)\n",
    "        \n",
    "    client.close()\n",
    "    cluster.close()\n",
    "        \n",
    "    \n",
    "else:\n",
    "    \n",
    "    def get_mean_intensity(pl):\n",
    "        result_ar = np.zeros(mx)\n",
    "        tr = torch.from_numpy(pl)\n",
    "        for r in range(mx):\n",
    "            result_ar[r] = (tr[lab == r+1]).float().mean()\n",
    "        return result_ar\n",
    "\n",
    "    lab = torch.from_numpy(labels.astype('int'))\n",
    "    mx = np.max(labels)\n",
    "    pl = plane.values\n",
    "    mean_int = get_mean_intensity(pl)\n",
    "    \n",
    "    print(mean_int)\n",
    "    \n",
    "        \n",
    "\n",
    "    "
   ]
  },
  {
   "cell_type": "code",
   "execution_count": null,
   "metadata": {},
   "outputs": [],
   "source": []
  }
 ],
 "metadata": {
  "kernelspec": {
   "display_name": "spatial",
   "language": "python",
   "name": "spatial"
  },
  "language_info": {
   "codemirror_mode": {
    "name": "ipython",
    "version": 3
   },
   "file_extension": ".py",
   "mimetype": "text/x-python",
   "name": "python",
   "nbconvert_exporter": "python",
   "pygments_lexer": "ipython3",
   "version": "3.9.12"
  }
 },
 "nbformat": 4,
 "nbformat_minor": 2
}
